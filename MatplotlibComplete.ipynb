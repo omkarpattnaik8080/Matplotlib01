{
  "nbformat": 4,
  "nbformat_minor": 0,
  "metadata": {
    "colab": {
      "provenance": [],
      "authorship_tag": "ABX9TyOrtiK/zjPC3BIBGIrOHIX8",
      "include_colab_link": true
    },
    "kernelspec": {
      "name": "python3",
      "display_name": "Python 3"
    },
    "language_info": {
      "name": "python"
    }
  },
  "cells": [
    {
      "cell_type": "markdown",
      "metadata": {
        "id": "view-in-github",
        "colab_type": "text"
      },
      "source": [
        "<a href=\"https://colab.research.google.com/github/omkarpattnaik8080/Matplotlib01/blob/main/MatplotlibComplete.ipynb\" target=\"_parent\"><img src=\"https://colab.research.google.com/assets/colab-badge.svg\" alt=\"Open In Colab\"/></a>"
      ]
    },
    {
      "cell_type": "code",
      "execution_count": 4,
      "metadata": {
        "id": "WlkmGW7cyw0D"
      },
      "outputs": [],
      "source": [
        "#visulisation is basically summarization of data in one place\n",
        "import matplotlib.pyplot as plt\n",
        "import numpy as np"
      ]
    },
    {
      "cell_type": "code",
      "source": [
        "plt.style.use(\"classic\")"
      ],
      "metadata": {
        "id": "V6w4-IFHAWZU"
      },
      "execution_count": 2,
      "outputs": []
    },
    {
      "cell_type": "code",
      "source": [
        "x=np.random.rand(50)\n",
        "y=np.random.rand(50)"
      ],
      "metadata": {
        "id": "3dVV4tW9AWjY"
      },
      "execution_count": 6,
      "outputs": []
    },
    {
      "cell_type": "code",
      "source": [
        "x"
      ],
      "metadata": {
        "colab": {
          "base_uri": "https://localhost:8080/"
        },
        "id": "yQXBD-QNAWsg",
        "outputId": "a023c8c3-0291-4650-919b-e97981a49cbe"
      },
      "execution_count": 7,
      "outputs": [
        {
          "output_type": "execute_result",
          "data": {
            "text/plain": [
              "array([1.58813981e-01, 4.77246951e-01, 2.21866433e-01, 6.22085087e-01,\n",
              "       5.47937346e-01, 4.54995709e-04, 3.33946732e-02, 8.09588263e-01,\n",
              "       4.65778170e-01, 8.79880383e-01, 8.63190114e-02, 2.75847656e-01,\n",
              "       5.43022710e-01, 5.39135852e-01, 8.20194163e-01, 1.86813363e-01,\n",
              "       4.55800984e-01, 5.80303778e-01, 6.22659755e-01, 1.86250573e-01,\n",
              "       8.74564508e-01, 7.86213118e-01, 2.96652319e-01, 3.80739309e-01,\n",
              "       8.16015162e-01, 7.37398559e-02, 7.25208532e-01, 6.41428786e-02,\n",
              "       2.46241525e-01, 3.83273600e-01, 7.24653193e-01, 7.86066551e-01,\n",
              "       5.37407519e-01, 5.85315528e-01, 6.86750912e-01, 1.73776800e-01,\n",
              "       8.67393374e-02, 9.04993365e-01, 6.08127959e-01, 9.52260270e-01,\n",
              "       5.03122099e-01, 6.44419789e-01, 6.88733928e-01, 6.27094067e-01,\n",
              "       4.97635764e-03, 8.13224205e-01, 2.09092525e-01, 6.03429624e-01,\n",
              "       1.14365998e-01, 4.25381638e-01])"
            ]
          },
          "metadata": {},
          "execution_count": 7
        }
      ]
    },
    {
      "cell_type": "code",
      "source": [
        "y"
      ],
      "metadata": {
        "colab": {
          "base_uri": "https://localhost:8080/"
        },
        "id": "bJHa9ZUuMCTC",
        "outputId": "3363ff43-cb24-4414-d91d-dd25eedbd8cd"
      },
      "execution_count": 8,
      "outputs": [
        {
          "output_type": "execute_result",
          "data": {
            "text/plain": [
              "array([0.00403574, 0.21492154, 0.84513362, 0.1546426 , 0.26869479,\n",
              "       0.7617493 , 0.10222926, 0.033848  , 0.94442485, 0.95589438,\n",
              "       0.28505485, 0.07733148, 0.89545666, 0.38626916, 0.12349645,\n",
              "       0.42788986, 0.49299365, 0.07829198, 0.1772879 , 0.21667103,\n",
              "       0.27422286, 0.01064369, 0.57627935, 0.74715711, 0.3503541 ,\n",
              "       0.70266556, 0.63416571, 0.08045838, 0.60277793, 0.58795169,\n",
              "       0.69473836, 0.57860361, 0.81665408, 0.24839619, 0.67203689,\n",
              "       0.1269855 , 0.71383733, 0.37309579, 0.26781719, 0.1913278 ,\n",
              "       0.02859686, 0.75441952, 0.64337366, 0.33960548, 0.85911517,\n",
              "       0.7556852 , 0.08250528, 0.39655672, 0.06323134, 0.76059617])"
            ]
          },
          "metadata": {},
          "execution_count": 8
        }
      ]
    },
    {
      "cell_type": "code",
      "source": [
        "plt.scatter(x,y)"
      ],
      "metadata": {
        "colab": {
          "base_uri": "https://localhost:8080/",
          "height": 458
        },
        "id": "RZvgWCCNMHjS",
        "outputId": "66ce3c63-0dd3-48cd-a348-e862fcfc62fb"
      },
      "execution_count": 9,
      "outputs": [
        {
          "output_type": "execute_result",
          "data": {
            "text/plain": [
              "<matplotlib.collections.PathCollection at 0x7f70b2001db0>"
            ]
          },
          "metadata": {},
          "execution_count": 9
        },
        {
          "output_type": "display_data",
          "data": {
            "text/plain": [
              "<Figure size 640x480 with 1 Axes>"
            ],
            "image/png": "[encoded data removed]"
          },
          "metadata": {}
        }
      ]
    },
    {
      "cell_type": "code",
      "source": [],
      "metadata": {
        "id": "KahlQtQIMMAA"
      },
      "execution_count": null,
      "outputs": []
    }
  ]
}